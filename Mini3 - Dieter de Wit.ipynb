{
 "cells": [
  {
   "cell_type": "markdown",
   "metadata": {},
   "source": [
    "Universidad del Valle de Guatemala <br/>\n",
    "Modelacion y Simulacion <br/>\n",
    "Docente: Samuel Chavez <br/>\n",
    "Semestre 2, 2020 <br/>\n",
    "\n",
    "Dieter Esteban de Wit Torres 15146 <br/>\n",
    "&nbsp;\n",
    "&nbsp;\n",
    "\n",
    "# Mini\tproyecto 3\n",
    "&nbsp;"
   ]
  },
  {
   "cell_type": "code",
   "execution_count": 1,
   "metadata": {},
   "outputs": [],
   "source": [
    "# --- Import required libraries ---\n",
    "import random\n",
    "import math"
   ]
  },
  {
   "cell_type": "code",
   "execution_count": 2,
   "metadata": {},
   "outputs": [],
   "source": [
    "# --- Important Definitions ---\n",
    "def exponential_service(lamda):\n",
    "    return -float((1/lamda)*math.log(random.random()))\n",
    "\n",
    "def event_time_persistence(s, lamda):\n",
    "    return s-(1/lamda)*math.log(random.random())"
   ]
  },
  {
   "cell_type": "code",
   "execution_count": 87,
   "metadata": {},
   "outputs": [],
   "source": [
    "# --- Gorila MegaComputing Simulation ---\n",
    "def GorillaMegaComputing(args):\n",
    "    rate = 40\n",
    "    closing_time = 3600\n",
    "    request_times = []\n",
    "    requests = 0\n",
    "    exits = 0\n",
    "    request_time = 0\n",
    "    exit_time = 0\n",
    "    processes = 0                  \n",
    "    processing_time = 0\n",
    "    total_time = 0\n",
    "    inf = float('inf')\n",
    "    \n",
    "    while True:\n",
    "        if(request_time <= exit_time and request_time <= closing_time):\n",
    "            time = request_time\n",
    "            requests = requests + 1\n",
    "            processes = processes + 1\n",
    "            request_time = event_time_persistence(time, rate)\n",
    "            if processes == 1:\n",
    "                Y = exponential_service(rate)\n",
    "                exit_time = time + Y\n",
    "            request_times.append(time)\n",
    "        elif(exit_time < request_time and exit_time <= closing_time):\n",
    "            time = exit_time\n",
    "            processes = processes - 1\n",
    "            exits = exits + 1\n",
    "            if processes == 0:\n",
    "                exit_time = inf\n",
    "            else:\n",
    "                Y = exponential_service(rate)\n",
    "                exit_time = time + Y\n",
    "                time = exit_time\n",
    "        elif(min(request_time, exit_time) > closing_time and processes > 0):\n",
    "            time = exit_time\n",
    "            processes = processes - 1\n",
    "            exits = exits + 1\n",
    "            if processes > 0:\n",
    "                Y = exponential_service(rate)\n",
    "                exit_time = time + Y\n",
    "                time = exit_time\n",
    "        elif(min(request_time, exit_time) > closing_time and processes==0):\n",
    "            processing_time = max(time - closing_time, 0)\n",
    "            break\n",
    "            \n",
    "    if args == 'requests':\n",
    "        return requests\n",
    "    elif args == 'occupied':\n",
    "        return exit_time\n",
    "    elif args == 'free':\n",
    "        return exit_time - request_time\n",
    "    \n",
    "    for req_time in range(len(request_times)):\n",
    "        remaining_time = request_times[req_time]\n",
    "        total_time = total_time + remaining_time\n",
    "        \n",
    "    if args == 'queue':\n",
    "        return total_time/len(request_times)\n",
    "    if args == 'prom_queue': \n",
    "        return (total_time/len(request_times))/requests"
   ]
  },
  {
   "cell_type": "code",
   "execution_count": 88,
   "metadata": {},
   "outputs": [],
   "source": [
    "def AntsSmartComputing(servers, args):\n",
    "    rate = 40\n",
    "    time = 0                          \n",
    "    closing_time = 3600                            \n",
    "    request_times = []                              \n",
    "    exit_times = []                              \n",
    "    processing_times = []                              \n",
    "    requests = 0                                                           \n",
    "    request_time = exponential_service(rate)\n",
    "    exit_time = [40] * servers\n",
    "    total_time = 0\n",
    "    sistem_requests = [0] * (1 + servers)\n",
    "    server_processes = [0] * servers\n",
    "    \n",
    "    while time < closing_time or sistem_requests[0] > 0:           \n",
    "        search_min_exit_time = exit_time.index(min(exit_time))            \n",
    "        \n",
    "        if request_time < exit_time[search_min_exit_time] and request_time < closing_time:   \n",
    "            time = request_time                     \n",
    "            requests = requests +  1                \n",
    "            request_time = request_time + exponential_service(rate)\n",
    "            request_times.append(time)                  \n",
    "            \n",
    "            if sistem_requests[0] == 0:              \n",
    "                processing_times.append(time)             \n",
    "                sistem_requests[0] += 1              \n",
    "                sistem_requests[1] = requests              \n",
    "                exit_time[0] = time + exponential_service(rate - 30) \n",
    "                \n",
    "            elif sistem_requests[0] < servers:            \n",
    "                available = sistem_requests.index(0) - 1 \n",
    "                processing_times.append(time)             \n",
    "                sistem_requests[0] += 1              \n",
    "                sistem_requests[available + 1] = requests      \n",
    "                exit_time[available] = time + exponential_service(rate - 30) \n",
    "            \n",
    "            else:                      \n",
    "                sistem_requests[0] += 1               \n",
    "        else:                          \n",
    "            time = exit_time[search_min_exit_time]             \n",
    "            server_processes[search_min_exit_time] += 1            \n",
    "            exit_times.append(time)                 \n",
    "            \n",
    "            if sistem_requests[0] <= servers:            \n",
    "                sistem_requests[0] -= 1              \n",
    "                exit_time[search_min_exit_time] = 1000000    \n",
    "                sistem_requests[search_min_exit_time + 1] = 0      \n",
    "            \n",
    "            else:                       \n",
    "                sistem_requests[0] *= -1\n",
    "                next_process = max(sistem_requests) + 1  \n",
    "                sistem_requests[0] *= -1\n",
    "                processing_times.append(time)            \n",
    "                sistem_requests[0] -= 1              \n",
    "                exit_time[search_min_exit_time] = time + exponential_service(rate - 30) \n",
    "                sistem_requests[search_min_exit_time + 1] = next_process \n",
    "                \n",
    "    if args == 'requests':\n",
    "        return requests\n",
    "    elif args == 'requests_detailed':\n",
    "        print (\"Solicitudes atendididas por cada servidor:\")\n",
    "        print (\"-----------------------------------------\")\n",
    "        for process in range (len(server_processes)):\n",
    "            print (\"\\t\" + \"Servidor \" + str(process + 1) + \":\", server_processes[process], \"solicitudes.\")\n",
    "        print (\"-----------------------------------------\")\n",
    "        return requests\n",
    "    elif args == 'occupied':\n",
    "        return exit_time\n",
    "    elif args == 'free':\n",
    "        return exit_time[0] - (exit_time[0] - request_time)\n",
    "    \n",
    "    for req_time in range(len(request_times)):\n",
    "        remaining_time = processing_times[req_time] - request_times[req_time]\n",
    "        total_time = total_time + remaining_time\n",
    "        \n",
    "    if args == 'queue':\n",
    "        return total_time\n",
    "    if args == 'prom_queue': \n",
    "        return total_time/requests\n",
    "    \n",
    "    print (\"ultima llegada:\", request_times[-1], \"s.\")\n",
    "    print (\"ultima salida:\", exit_times[-1], \"s.\")"
   ]
  },
  {
   "cell_type": "markdown",
   "metadata": {},
   "source": [
    "## Ejercicio\túnico – Servidores:"
   ]
  },
  {
   "cell_type": "markdown",
   "metadata": {},
   "source": [
    "Es\tusted\tel/la\tencargad@\tde\tdefinir\tla\tarquitectura\ta\tusar\ten\tel\tlanzamiento\tde\tsu\tpróxima\taplicación\tWeb:\tC3 (Sistema\tde\tContabilidad\tdel\tConde\tContador). La\tjunta\tdirectiva\tle\tha\tsolicitado\tque\tencuentre\tel\tmejor\tservicio\tde\thosting\tpara\tel\tproyecto.\tDespués\tde\tuna\tinvestigación\tgigante,\tusted\tconcluye\tque\tlas\tmejores\topciones\tse\treducen\ta\tlas\tsiguientes\tdos:"
   ]
  },
  {
   "cell_type": "markdown",
   "metadata": {},
   "source": [
    "### Proveedor\t1\t– Gorilla\tMegacomputing:\n",
    "    Tienen una infraestructura de servidor único, con mucha potencia de procesamiento. Ellos se enorgullecen al indicar que su servidor Enterprise puede atender hasta 100 solicitudes por segundo.\n",
    "\n",
    "### Proveedor\t2\t– Ants\tsmart\tcomputing:\n",
    "    Tienen una infraestructura de múltiples servidores (en nube). Cada servidor es medianamente potente, y en su promoción indican que uno paga únicamente la cantidad de servidores que su aplicación requiera. Luego de su análisis de esta oferta, usted infiere que cada servidor tiene a lo sumo una décima parte de la potencia del servidor promocionado por Gorilla Megacomputing."
   ]
  },
  {
   "cell_type": "markdown",
   "metadata": {},
   "source": [
    "Las\tpruebas\tde\testrés\tiniciales,\ty\tlas\tproyecciones\tcalculadas\tpara\tlos\tprimeros\t2\taños\tluego\tdel\tlanzamiento,\tindican\tque\tsu\taplicación\tjamás\texcederá\tlos\t2400\tsolicitudes\tpor\tminuto.\tUna\tauditoría\ty\tanálisis\tde\tbenchmark a\tsistemas\tsimilares\tal\tsuyo,\tindican\tque\tlas\tsolicitudes\tdeberían\tllegar como\tun\tproceso\tde\tPoisson,\ty\tque\tel\ttiempo\tde\tservicio\tde\tcada\tsolicitud\t(sin\timportar\tla\tarquitectura\tde\tservidor\tusada)\tes\tmodelado\tadecuadamente\tpor\tuna\tvariable\taleatoria\texponencial.\n",
    "\n",
    "Mañana\ttiene\tque\tpresentar\tsu\tdecisión\tfinal\ta\tla\tjunta\tdirectiva\tdel\tproyecto.\t\tComo\tno\ttiene\ttiempo\tpara\thacer una\tinvestigación\ta\tdetalle\tcon\tlos\tclientes\tde\tcada\tproveedor,\tdecide\tcreer\ten\tsu\tpromoción\ty\thacer\tuna\tsimulación\tpara\tconcluir\tcuál\tserá\tla\tmejor\topción."
   ]
  },
  {
   "cell_type": "markdown",
   "metadata": {},
   "source": [
    "### Task 1: \n",
    "\n",
    "Modele,\tsimule\ty\tanalice el\tcomportamiento\tde\tambos\tsistemas\tdurante\tuna\thora\tde\tejecución\tde\tC3,\ty\tpara\tcada\tsistema\tresponda:"
   ]
  },
  {
   "cell_type": "markdown",
   "metadata": {},
   "source": [
    "- ¿Cuántas\tsolicitudes atendió\tcada\tservidor?"
   ]
  },
  {
   "cell_type": "code",
   "execution_count": 64,
   "metadata": {
    "scrolled": false
   },
   "outputs": [
    {
     "name": "stdout",
     "output_type": "stream",
     "text": [
      "> Gorilla MegaComputing atendio 143806 solicitudes.\n",
      "> Ants SmartComputing atendio 144553 solicitudes.\n"
     ]
    }
   ],
   "source": [
    "print (\"> Gorilla MegaComputing atendio\", GorillaMegaComputing('requests'), \"solicitudes.\")\n",
    "print (\"> Ants SmartComputing atendio\", AntsSmartComputing(10, 'requests'), \"solicitudes.\")"
   ]
  },
  {
   "cell_type": "markdown",
   "metadata": {},
   "source": [
    "- ¿Cuánto\ttiempo\testuvo\tcada\tservidor\tocupado?"
   ]
  },
  {
   "cell_type": "code",
   "execution_count": 81,
   "metadata": {},
   "outputs": [
    {
     "name": "stdout",
     "output_type": "stream",
     "text": [
      "> Gorilla MegaComputing se mantuvo ocupado por 3604.1232479359314 segundos.\n",
      "> Ants SmartComputing se mantuvo ocupado por: \n",
      "  1000000 segundos por servidor. \n",
      "  10000000 segundos totales.\n"
     ]
    }
   ],
   "source": [
    "ants_occupied_seconds = AntsSmartComputing(10, 'occupied')\n",
    "\n",
    "print (\"> Gorilla MegaComputing se mantuvo ocupado por\", GorillaMegaComputing('occupied'), \"segundos.\")\n",
    "print (\"> Ants SmartComputing se mantuvo ocupado por: \\n \", ants_occupied_seconds[0], \"segundos por servidor. \\n \", sum(ants_occupied_seconds), \"segundos totales.\")"
   ]
  },
  {
   "cell_type": "markdown",
   "metadata": {},
   "source": [
    "- ¿Cuánto\ttiempo\testuvo\tcada\tservidor\tdesocupado\t(idle)?"
   ]
  },
  {
   "cell_type": "code",
   "execution_count": 85,
   "metadata": {},
   "outputs": [
    {
     "name": "stdout",
     "output_type": "stream",
     "text": [
      "> Gorilla MegaComputing se mantuvo desocupado por 10.660237456908362 segundos.\n",
      "> Ants SmartComputing se mantuvo desocupado por: \n",
      "  360.00077753331277 segundos por servidor aproximadamente. \n",
      "  3600.007775333128 segundos totales\n"
     ]
    }
   ],
   "source": [
    "ants_idle_seconds = AntsSmartComputing(10, 'free')\n",
    "\n",
    "print (\"> Gorilla MegaComputing se mantuvo desocupado por\", GorillaMegaComputing('free'), \"segundos.\")\n",
    "print (\"> Ants SmartComputing se mantuvo desocupado por: \\n \", ants_idle_seconds/10, \"segundos por servidor aproximadamente. \\n \", ants_idle_seconds, \"segundos totales\")"
   ]
  },
  {
   "cell_type": "markdown",
   "metadata": {},
   "source": [
    "- ¿Cuánto\ttiempo\ten\ttotal\testuvieron\tlas\tsolicitudes en\tcola?"
   ]
  },
  {
   "cell_type": "code",
   "execution_count": 89,
   "metadata": {},
   "outputs": [
    {
     "name": "stdout",
     "output_type": "stream",
     "text": [
      "> Se mantuvieron en cola las solicitudes de Gorilla MegaComputing por 1795.9954288544525 segundos.\n",
      "> Se mantuvieron en cola las solicitudes de Ants SmartComputing por: \n",
      "  21.266438117234856 segundos por servidor aproximadamente. \n",
      "  212.66438117234856 segundos totales.\n"
     ]
    }
   ],
   "source": [
    "ants_queue_seconds = AntsSmartComputing(10, 'queue')\n",
    "\n",
    "print (\"> Se mantuvieron en cola las solicitudes de Gorilla MegaComputing por\", GorillaMegaComputing('queue'), \"segundos.\")\n",
    "print (\"> Se mantuvieron en cola las solicitudes de Ants SmartComputing por: \\n \", ants_queue_seconds, \"segundos por servidor aproximadamente. \\n \", ants_queue_seconds*10, \"segundos totales.\")"
   ]
  },
  {
   "cell_type": "markdown",
   "metadata": {},
   "source": [
    "- En\tpromedio\t¿cuánto\ttiempo\testuvo\tcada\tsolicitud en\tcola?"
   ]
  },
  {
   "cell_type": "code",
   "execution_count": 91,
   "metadata": {},
   "outputs": [
    {
     "name": "stdout",
     "output_type": "stream",
     "text": [
      "> En promedio, estuvo cada solicitud en cola en Gorilla MegaComputing por 0.012473045565797168 segundos aproximadament.\n",
      "> En promedio, estuvo cada solicitud en cola en Ants SmartComputing por 0.00015737033667640585 segundos por servidor aproximadamente.\n"
     ]
    }
   ],
   "source": [
    "ants_prom_queue_seconds = AntsSmartComputing(10, 'prom_queue')\n",
    "\n",
    "print (\"> En promedio, estuvo cada solicitud en cola en Gorilla MegaComputing por\", GorillaMegaComputing('prom_queue'), \"segundos aproximadament.\")\n",
    "print (\"> En promedio, estuvo cada solicitud en cola en Ants SmartComputing por\", ants_prom_queue_seconds, \"segundos por servidor aproximadamente.\")"
   ]
  },
  {
   "cell_type": "markdown",
   "metadata": {},
   "source": [
    "### Task 2: \n",
    "\n",
    "Determine\texperimentalmente\t**p1**,\t**p2**,\t**p3** que\thacen\tsu\tdibujo\tmás\tdenso."
   ]
  },
  {
   "cell_type": "markdown",
   "metadata": {},
   "source": [
    "- La probabilidad individual para **p1**, **p2** y **p3** que genera el dibujo mas denso es de 0.333 para cada una de ellas, sin embargo no se represento en el codigo debido a que como la probabilidad es la misma para las 3 individuales no existe cambio si se multiplica el estado deterministico or un factor unitario. "
   ]
  }
 ],
 "metadata": {
  "kernelspec": {
   "display_name": "Python 3",
   "language": "python",
   "name": "python3"
  },
  "language_info": {
   "codemirror_mode": {
    "name": "ipython",
    "version": 3
   },
   "file_extension": ".py",
   "mimetype": "text/x-python",
   "name": "python",
   "nbconvert_exporter": "python",
   "pygments_lexer": "ipython3",
   "version": "3.8.6"
  }
 },
 "nbformat": 4,
 "nbformat_minor": 4
}
