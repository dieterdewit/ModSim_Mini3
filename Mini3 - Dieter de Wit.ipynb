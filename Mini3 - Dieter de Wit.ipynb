{
 "cells": [
  {
   "cell_type": "markdown",
   "metadata": {},
   "source": [
    "Universidad del Valle de Guatemala <br/>\n",
    "Modelacion y Simulacion <br/>\n",
    "Docente: Samuel Chavez <br/>\n",
    "Semestre 2, 2020 <br/>\n",
    "\n",
    "Dieter Esteban de Wit Torres 15146 <br/>\n",
    "&nbsp;\n",
    "&nbsp;\n",
    "\n",
    "# Mini\tproyecto 3\n",
    "&nbsp;"
   ]
  },
  {
   "cell_type": "code",
   "execution_count": 63,
   "metadata": {},
   "outputs": [],
   "source": [
    "# --- Import required libraries ---\n",
    "import random\n",
    "import math\n",
    "import time"
   ]
  },
  {
   "cell_type": "code",
   "execution_count": 64,
   "metadata": {},
   "outputs": [],
   "source": [
    "# --- Important Definitions ---\n",
    "def exponential_service(lamda):\n",
    "    return -float((1/lamda)*math.log(random.random()))\n",
    "\n",
    "def event_time_persistence(s, lamda):\n",
    "    return s-(1/lamda)*math.log(random.random())"
   ]
  },
  {
   "cell_type": "code",
   "execution_count": 65,
   "metadata": {},
   "outputs": [],
   "source": [
    "# --- Gorila MegaComputing Simulation ---\n",
    "def GorillaMegaComputing():\n",
    "    rate = 40\n",
    "    closing_time = 3600\n",
    "    request_times = []\n",
    "    requests = 0\n",
    "    exits = 0\n",
    "    request_time = 0\n",
    "    exit_time = 0\n",
    "    exit_times = [] \n",
    "    processes = 0                  \n",
    "    processing_time = 0\n",
    "    total_time = 0\n",
    "    inf = float('inf')\n",
    "    \n",
    "    while True:\n",
    "        if(request_time <= exit_time and request_time <= closing_time):\n",
    "            time = request_time\n",
    "            requests = requests + 1\n",
    "            processes = processes + 1\n",
    "            request_time = event_time_persistence(time, rate)\n",
    "            if processes == 1:\n",
    "                Y = exponential_service(rate)\n",
    "                exit_time = time + Y\n",
    "            request_times.append(time)\n",
    "        elif(exit_time < request_time and exit_time <= closing_time):\n",
    "            time = exit_time\n",
    "            processes = processes - 1\n",
    "            exits = exits + 1\n",
    "            if processes == 0:\n",
    "                exit_time = inf\n",
    "            else:\n",
    "                Y = exponential_service(rate)\n",
    "                exit_time = time + Y\n",
    "                time = exit_time\n",
    "            exit_times.append(time)\n",
    "        elif(min(request_time, exit_time) > closing_time and processes > 0):\n",
    "            time = exit_time\n",
    "            processes = processes - 1\n",
    "            exits = exits + 1\n",
    "            if processes > 0:\n",
    "                Y = exponential_service(rate)\n",
    "                exit_time = time + Y\n",
    "                time = exit_time\n",
    "            exit_times.append(time)\n",
    "        elif(min(request_time, exit_time) > closing_time and processes==0):\n",
    "            processing_time = max(time - closing_time, 0)\n",
    "            break\n",
    "    \n",
    "    for req_time in range(len(request_times)):\n",
    "        remaining_time = request_times[req_time]\n",
    "        total_time = total_time + remaining_time\n",
    "        \n",
    "    global gorilla_requests \n",
    "    gorilla_requests = requests\n",
    "    global gorilla_occupied \n",
    "    gorilla_occupied = exit_time\n",
    "    global gorilla_free \n",
    "    gorilla_free = exit_time - request_time\n",
    "    global gorilla_queue \n",
    "    gorilla_queue = total_time/len(request_times)\n",
    "    global gorilla_prom_queue \n",
    "    gorilla_prom_queue = gorilla_queue/requests\n",
    "    global gorilla_prom_queue_req \n",
    "    gorilla_prom_queue_req = requests/gorilla_queue\n",
    "    global gorilla_last_req_call\n",
    "    gorilla_last_req_call = request_times[-1]\n",
    "    global gorilla_last_req_end\n",
    "    gorilla_last_req_end = exit_times[-1]"
   ]
  },
  {
   "cell_type": "code",
   "execution_count": 66,
   "metadata": {},
   "outputs": [],
   "source": [
    "def AntsSmartComputing(servers, args):\n",
    "    rate = 40\n",
    "    time = 0                          \n",
    "    closing_time = 3600                            \n",
    "    request_times = []                              \n",
    "    exit_times = []                              \n",
    "    processing_times = []                              \n",
    "    requests = 0                                                           \n",
    "    request_time = exponential_service(rate)\n",
    "    exit_time = [40] * servers\n",
    "    total_time = 0\n",
    "    sistem_requests = [0] * (1 + servers)\n",
    "    server_processes = [0] * servers\n",
    "    \n",
    "    while time < closing_time or sistem_requests[0] > 0:           \n",
    "        search_min_exit_time = exit_time.index(min(exit_time))            \n",
    "        \n",
    "        if request_time < exit_time[search_min_exit_time] and request_time < closing_time:   \n",
    "            time = request_time                     \n",
    "            requests = requests +  1                \n",
    "            request_time = request_time + exponential_service(rate)\n",
    "            request_times.append(time)                  \n",
    "            \n",
    "            if sistem_requests[0] == 0:              \n",
    "                processing_times.append(time)             \n",
    "                sistem_requests[0] += 1              \n",
    "                sistem_requests[1] = requests              \n",
    "                exit_time[0] = time + exponential_service(rate - 30) \n",
    "                \n",
    "            elif sistem_requests[0] < servers:            \n",
    "                available = sistem_requests.index(0) - 1 \n",
    "                processing_times.append(time)             \n",
    "                sistem_requests[0] += 1              \n",
    "                sistem_requests[available + 1] = requests      \n",
    "                exit_time[available] = time + exponential_service(rate - 30) \n",
    "            \n",
    "            else:                      \n",
    "                sistem_requests[0] += 1               \n",
    "        else:                          \n",
    "            time = exit_time[search_min_exit_time]             \n",
    "            server_processes[search_min_exit_time] += 1            \n",
    "            exit_times.append(time)                 \n",
    "            \n",
    "            if sistem_requests[0] <= servers:            \n",
    "                sistem_requests[0] -= 1              \n",
    "                exit_time[search_min_exit_time] = 1000000    \n",
    "                sistem_requests[search_min_exit_time + 1] = 0      \n",
    "            \n",
    "            else:                       \n",
    "                sistem_requests[0] *= -1\n",
    "                next_process = max(sistem_requests) + 1  \n",
    "                sistem_requests[0] *= -1\n",
    "                processing_times.append(time)            \n",
    "                sistem_requests[0] -= 1              \n",
    "                exit_time[search_min_exit_time] = time + exponential_service(rate - 30) \n",
    "                sistem_requests[search_min_exit_time + 1] = next_process \n",
    "                \n",
    "    if args == 'requests_detailed':\n",
    "        print (\"Solicitudes atendididas por cada servidor de Ants SmartComputing:\")\n",
    "        print (\"-----------------------------------------\")\n",
    "        for process in range (len(server_processes)):\n",
    "            print (\"\\t\" + \"Servidor \" + str(process + 1) + \":\", server_processes[process], \"solicitudes.\")\n",
    "        print (\"-----------------------------------------\")\n",
    "    \n",
    "    for req_time in range(len(request_times)):\n",
    "        remaining_time = processing_times[req_time] - request_times[req_time]\n",
    "        total_time = total_time + remaining_time\n",
    "    \n",
    "    global ants_requests \n",
    "    ants_requests = requests\n",
    "    global ants_occupied \n",
    "    ants_occupied = exit_time\n",
    "    global ants_free \n",
    "    ants_free = exit_time[0] - (exit_time[0] - request_time)\n",
    "    global ants_queue \n",
    "    ants_queue = total_time\n",
    "    global ants_prom_queue \n",
    "    ants_prom_queue = ants_queue/requests\n",
    "    global ants_prom_queue_req \n",
    "    try:\n",
    "        ants_prom_queue_req = requests/ants_queue\n",
    "    except:\n",
    "        ants_prom_queue_req = 0\n",
    "    global ants_last_req_call\n",
    "    ants_last_req_call = request_times[-1]\n",
    "    global ants_last_req_end\n",
    "    ants_last_req_end = exit_times[-1]"
   ]
  },
  {
   "cell_type": "markdown",
   "metadata": {},
   "source": [
    "## Ejercicio\túnico – Servidores:"
   ]
  },
  {
   "cell_type": "markdown",
   "metadata": {},
   "source": [
    "Es\tusted\tel/la\tencargad@\tde\tdefinir\tla\tarquitectura\ta\tusar\ten\tel\tlanzamiento\tde\tsu\tpróxima\taplicación\tWeb:\tC3 (Sistema\tde\tContabilidad\tdel\tConde\tContador). La\tjunta\tdirectiva\tle\tha\tsolicitado\tque\tencuentre\tel\tmejor\tservicio\tde\thosting\tpara\tel\tproyecto.\tDespués\tde\tuna\tinvestigación\tgigante,\tusted\tconcluye\tque\tlas\tmejores\topciones\tse\treducen\ta\tlas\tsiguientes\tdos:"
   ]
  },
  {
   "cell_type": "markdown",
   "metadata": {},
   "source": [
    "### Proveedor\t1\t– Gorilla\tMegacomputing:\n",
    "    Tienen una infraestructura de servidor único, con mucha potencia de procesamiento. Ellos se enorgullecen al indicar que su servidor Enterprise puede atender hasta 100 solicitudes por segundo.\n",
    "\n",
    "### Proveedor\t2\t– Ants\tsmart\tcomputing:\n",
    "    Tienen una infraestructura de múltiples servidores (en nube). Cada servidor es medianamente potente, y en su promoción indican que uno paga únicamente la cantidad de servidores que su aplicación requiera. Luego de su análisis de esta oferta, usted infiere que cada servidor tiene a lo sumo una décima parte de la potencia del servidor promocionado por Gorilla Megacomputing."
   ]
  },
  {
   "cell_type": "markdown",
   "metadata": {},
   "source": [
    "Las\tpruebas\tde\testrés\tiniciales,\ty\tlas\tproyecciones\tcalculadas\tpara\tlos\tprimeros\t2\taños\tluego\tdel\tlanzamiento,\tindican\tque\tsu\taplicación\tjamás\texcederá\tlos\t2400\tsolicitudes\tpor\tminuto.\tUna\tauditoría\ty\tanálisis\tde\tbenchmark a\tsistemas\tsimilares\tal\tsuyo,\tindican\tque\tlas\tsolicitudes\tdeberían\tllegar como\tun\tproceso\tde\tPoisson,\ty\tque\tel\ttiempo\tde\tservicio\tde\tcada\tsolicitud\t(sin\timportar\tla\tarquitectura\tde\tservidor\tusada)\tes\tmodelado\tadecuadamente\tpor\tuna\tvariable\taleatoria\texponencial.\n",
    "\n",
    "Mañana\ttiene\tque\tpresentar\tsu\tdecisión\tfinal\ta\tla\tjunta\tdirectiva\tdel\tproyecto.\t\tComo\tno\ttiene\ttiempo\tpara\thacer una\tinvestigación\ta\tdetalle\tcon\tlos\tclientes\tde\tcada\tproveedor,\tdecide\tcreer\ten\tsu\tpromoción\ty\thacer\tuna\tsimulación\tpara\tconcluir\tcuál\tserá\tla\tmejor\topción."
   ]
  },
  {
   "cell_type": "markdown",
   "metadata": {},
   "source": [
    "### Task 1: \n",
    "\n",
    "Modele,\tsimule\ty\tanalice el\tcomportamiento\tde\tambos\tsistemas\tdurante\tuna\thora\tde\tejecución\tde\tC3,\ty\tpara\tcada\tsistema\tresponda:"
   ]
  },
  {
   "cell_type": "code",
   "execution_count": 67,
   "metadata": {},
   "outputs": [
    {
     "name": "stdout",
     "output_type": "stream",
     "text": [
      "Solicitudes atendididas por cada servidor de Ants SmartComputing:\n",
      "-----------------------------------------\n",
      "\tServidor 1: 28986 solicitudes.\n",
      "\tServidor 2: 26552 solicitudes.\n",
      "\tServidor 3: 23824 solicitudes.\n",
      "\tServidor 4: 20179 solicitudes.\n",
      "\tServidor 5: 16183 solicitudes.\n",
      "\tServidor 6: 11874 solicitudes.\n",
      "\tServidor 7: 7753 solicitudes.\n",
      "\tServidor 8: 4648 solicitudes.\n",
      "\tServidor 9: 2551 solicitudes.\n",
      "\tServidor 10: 1248 solicitudes.\n",
      "-----------------------------------------\n"
     ]
    }
   ],
   "source": [
    "GorillaMegaComputing()\n",
    "AntsSmartComputing(10, 'requests_detailed')"
   ]
  },
  {
   "cell_type": "markdown",
   "metadata": {},
   "source": [
    "- ¿Cuántas\tsolicitudes atendió\tcada\tservidor?"
   ]
  },
  {
   "cell_type": "code",
   "execution_count": 68,
   "metadata": {
    "scrolled": false
   },
   "outputs": [
    {
     "name": "stdout",
     "output_type": "stream",
     "text": [
      "> Gorilla MegaComputing atendio 143881 solicitudes.\n",
      "> Ants SmartComputing atendio 143798 solicitudes.\n"
     ]
    }
   ],
   "source": [
    "print (\"> Gorilla MegaComputing atendio\", gorilla_requests, \"solicitudes.\")\n",
    "print (\"> Ants SmartComputing atendio\", ants_requests, \"solicitudes.\")"
   ]
  },
  {
   "cell_type": "markdown",
   "metadata": {},
   "source": [
    "- ¿Cuánto\ttiempo\testuvo\tcada\tservidor\tocupado?"
   ]
  },
  {
   "cell_type": "code",
   "execution_count": 69,
   "metadata": {},
   "outputs": [
    {
     "name": "stdout",
     "output_type": "stream",
     "text": [
      "> Gorilla MegaComputing se mantuvo ocupado por 3603.5639 segundos.\n",
      "> Ants SmartComputing se mantuvo ocupado por: \n",
      "  1000000 segundos por servidor. \n",
      "  10000000 segundos totales.\n"
     ]
    }
   ],
   "source": [
    "print (\"> Gorilla MegaComputing se mantuvo ocupado por\", round(gorilla_occupied, 4), \"segundos.\")\n",
    "print (\"> Ants SmartComputing se mantuvo ocupado por: \\n \", ants_occupied[0], \"segundos por servidor. \\n \", sum(ants_occupied), \"segundos totales.\")"
   ]
  },
  {
   "cell_type": "markdown",
   "metadata": {},
   "source": [
    "- ¿Cuánto\ttiempo\testuvo\tcada\tservidor\tdesocupado\t(idle)?"
   ]
  },
  {
   "cell_type": "code",
   "execution_count": 70,
   "metadata": {},
   "outputs": [
    {
     "name": "stdout",
     "output_type": "stream",
     "text": [
      "> Gorilla MegaComputing se mantuvo desocupado por 3.5541 segundos.\n",
      "> Ants SmartComputing se mantuvo desocupado por: \n",
      "  360.0002 segundos por servidor aproximadamente. \n",
      "  3600.0017 segundos totales\n"
     ]
    }
   ],
   "source": [
    "print (\"> Gorilla MegaComputing se mantuvo desocupado por\", round(gorilla_free, 4), \"segundos.\")\n",
    "print (\"> Ants SmartComputing se mantuvo desocupado por: \\n \", round(ants_free/10, 4), \"segundos por servidor aproximadamente. \\n \", round(ants_free, 4), \"segundos totales\")"
   ]
  },
  {
   "cell_type": "markdown",
   "metadata": {},
   "source": [
    "- ¿Cuánto\ttiempo\ten\ttotal\testuvieron\tlas\tsolicitudes en\tcola?"
   ]
  },
  {
   "cell_type": "code",
   "execution_count": 71,
   "metadata": {},
   "outputs": [
    {
     "name": "stdout",
     "output_type": "stream",
     "text": [
      "> Se mantuvieron en cola las solicitudes de Gorilla MegaComputing por 1797.8621 segundos.\n",
      "> Se mantuvieron en cola las solicitudes de Ants SmartComputing por: \n",
      "  19.9257 segundos por servidor aproximadamente. \n",
      "  199.257 segundos totales.\n"
     ]
    }
   ],
   "source": [
    "print (\"> Se mantuvieron en cola las solicitudes de Gorilla MegaComputing por\", round(gorilla_queue, 4), \"segundos.\")\n",
    "print (\"> Se mantuvieron en cola las solicitudes de Ants SmartComputing por: \\n \", round(ants_queue, 4), \"segundos por servidor aproximadamente. \\n \", round(ants_queue*10, 4), \"segundos totales.\")"
   ]
  },
  {
   "cell_type": "markdown",
   "metadata": {},
   "source": [
    "- En\tpromedio\t¿cuánto\ttiempo\testuvo\tcada\tsolicitud en\tcola?"
   ]
  },
  {
   "cell_type": "code",
   "execution_count": 72,
   "metadata": {},
   "outputs": [
    {
     "name": "stdout",
     "output_type": "stream",
     "text": [
      "> En promedio, estuvo cada solicitud en cola en Gorilla MegaComputing 0.0125 segundos aproximadamente.\n",
      "> En promedio, estuvo cada solicitud en cola en Ants SmartComputing 0.0001 segundos por servidor aproximadamente.\n"
     ]
    }
   ],
   "source": [
    "print (\"> En promedio, estuvo cada solicitud en cola en Gorilla MegaComputing\", round(gorilla_prom_queue, 4), \"segundos aproximadamente.\")\n",
    "print (\"> En promedio, estuvo cada solicitud en cola en Ants SmartComputing\", round(ants_prom_queue, 4), \"segundos por servidor aproximadamente.\")"
   ]
  },
  {
   "cell_type": "markdown",
   "metadata": {},
   "source": [
    "- En\tpromedio,\t¿cuántas\tsolicitudes estuvieron\ten\tcola cada\tsegundo?"
   ]
  },
  {
   "cell_type": "code",
   "execution_count": 73,
   "metadata": {},
   "outputs": [
    {
     "name": "stdout",
     "output_type": "stream",
     "text": [
      "> En promedio, estuvieron 80.0289 solicitudes por segundo en cola en Gorilla MegaComputing aproximadamente.\n",
      "> En promedio, estuvieron 7216.7118 solicitudes por segundo en cola en Ants SmartComputing aproximadamente.\n"
     ]
    }
   ],
   "source": [
    "print (\"> En promedio, estuvieron\", round(gorilla_prom_queue_req, 4), \"solicitudes por segundo en cola en Gorilla MegaComputing aproximadamente.\")\n",
    "print (\"> En promedio, estuvieron\", round(ants_prom_queue_req, 4), \"solicitudes por segundo en cola en Ants SmartComputing aproximadamente.\")"
   ]
  },
  {
   "cell_type": "markdown",
   "metadata": {},
   "source": [
    "- ¿Cuál\tes\tel\tmomento\tde\tla\tsalida\tde la última solicitud?"
   ]
  },
  {
   "cell_type": "code",
   "execution_count": 74,
   "metadata": {},
   "outputs": [
    {
     "name": "stdout",
     "output_type": "stream",
     "text": [
      "> En Gorilla MegaComputing la ultima solicitud entro a los 3599.9786 segundos y salio a los 3603.5639 segundos.\n",
      "> En Ants SmartComputing la ultima solicitud entro a los 3599.9968 segundos y salio a los 3600.1397 segundos.\n"
     ]
    }
   ],
   "source": [
    "print (\"> En Gorilla MegaComputing la ultima solicitud entro a los\", round(gorilla_last_req_call, 4), \"segundos y salio a los\", round(gorilla_last_req_end, 4), \"segundos.\")\n",
    "print (\"> En Ants SmartComputing la ultima solicitud entro a los\", round(ants_last_req_call, 4), \"segundos y salio a los\", round(ants_last_req_end, 4), \"segundos.\")"
   ]
  },
  {
   "cell_type": "markdown",
   "metadata": {},
   "source": [
    "### Task 2: \n",
    "\n",
    "Determine\tempíricamente\tcuántos\tservidores\tse\tnecesitaría\t“alquilar”\ten\tAnts\tsmart\tcomputing\tpara\tasegurar\tque\tsiempre\thabrá al\tmenos\tun\tservidor\tdisponible\tpara\tatender\tuna\tsolicitud\tdada (en\totras\tpalabras,\tuna\tsolicitud\tnunca\ttiene\tque\tesperar\ten\tcola)."
   ]
  },
  {
   "cell_type": "code",
   "execution_count": 76,
   "metadata": {},
   "outputs": [
    {
     "name": "stdout",
     "output_type": "stream",
     "text": [
      "Se requieren 15 servidores en Ants SmartComputing para que ninguna solicitud deba esperar en cola.\n"
     ]
    }
   ],
   "source": [
    "min_servers, max_servers = 10, 1000\n",
    "for server in range(min_servers, max_servers):\n",
    "    AntsSmartComputing(server, '')\n",
    "    if ants_queue == 0:\n",
    "        print(\"Se requieren\", server, \"servidores en Ants SmartComputing para que ninguna solicitud deba esperar en cola.\")\n",
    "        break"
   ]
  },
  {
   "cell_type": "markdown",
   "metadata": {},
   "source": [
    "### Task 3 & 4: \n",
    "\n",
    "se\tespera que\ta\tpartir\tdel\ttercer\taño\tdel\tlanzamiento\tde\tsu\taplicación,\tla\tcantidad\tde usuarios sufra\tun\talza,\ty\tpor\ttanto\tdeberán\t atender como\tmáximo\t6000\tsolicitudes\tpor\tminuto.\tResuelva\tel\tTask1 y\tel\tTask2 para\testa\tnueva\tconfiguración."
   ]
  },
  {
   "cell_type": "code",
   "execution_count": null,
   "metadata": {},
   "outputs": [],
   "source": []
  }
 ],
 "metadata": {
  "kernelspec": {
   "display_name": "Python 3",
   "language": "python",
   "name": "python3"
  },
  "language_info": {
   "codemirror_mode": {
    "name": "ipython",
    "version": 3
   },
   "file_extension": ".py",
   "mimetype": "text/x-python",
   "name": "python",
   "nbconvert_exporter": "python",
   "pygments_lexer": "ipython3",
   "version": "3.8.6"
  }
 },
 "nbformat": 4,
 "nbformat_minor": 4
}
