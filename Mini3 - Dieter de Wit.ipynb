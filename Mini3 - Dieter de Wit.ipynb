{
 "cells": [
  {
   "cell_type": "markdown",
   "metadata": {},
   "source": [
    "Universidad del Valle de Guatemala <br/>\n",
    "Modelacion y Simulacion <br/>\n",
    "Docente: Samuel Chavez <br/>\n",
    "Semestre 2, 2020 <br/>\n",
    "\n",
    "Dieter Esteban de Wit Torres 15146 <br/>\n",
    "&nbsp;\n",
    "&nbsp;\n",
    "\n",
    "# Mini\tproyecto 3\n",
    "&nbsp;"
   ]
  },
  {
   "cell_type": "code",
   "execution_count": 1,
   "metadata": {},
   "outputs": [],
   "source": [
    "# --- Import required libraries ---\n",
    "import random\n",
    "import math"
   ]
  },
  {
   "cell_type": "code",
   "execution_count": 2,
   "metadata": {},
   "outputs": [],
   "source": [
    "# --- Important Definitions ---\n",
    "def exponential_service(lamda):\n",
    "    return -float((1/lamda)*math.log(random.random()))\n",
    "\n",
    "def event_time_persistence(s, lamda):\n",
    "    return s-(1/lamda)*math.log(random.random())"
   ]
  },
  {
   "cell_type": "code",
   "execution_count": 19,
   "metadata": {},
   "outputs": [],
   "source": [
    "# --- Gorila MegaComputing Simulation ---\n",
    "def GorillaMegaComputing():\n",
    "    rate = 40\n",
    "    closing_time = 3600\n",
    "    request_times = []\n",
    "    requests = 0\n",
    "    exits = 0\n",
    "    request_time = 0\n",
    "    exit_time = 0\n",
    "    exit_times = [] \n",
    "    processes = 0                  \n",
    "    processing_time = 0\n",
    "    total_time = 0\n",
    "    inf = float('inf')\n",
    "    \n",
    "    while True:\n",
    "        if(request_time <= exit_time and request_time <= closing_time):\n",
    "            time = request_time\n",
    "            requests = requests + 1\n",
    "            processes = processes + 1\n",
    "            request_time = event_time_persistence(time, rate)\n",
    "            if processes == 1:\n",
    "                Y = exponential_service(rate)\n",
    "                exit_time = time + Y\n",
    "            request_times.append(time)\n",
    "        elif(exit_time < request_time and exit_time <= closing_time):\n",
    "            time = exit_time\n",
    "            processes = processes - 1\n",
    "            exits = exits + 1\n",
    "            if processes == 0:\n",
    "                exit_time = inf\n",
    "            else:\n",
    "                Y = exponential_service(rate)\n",
    "                exit_time = time + Y\n",
    "                time = exit_time\n",
    "            exit_times.append(time)\n",
    "        elif(min(request_time, exit_time) > closing_time and processes > 0):\n",
    "            time = exit_time\n",
    "            processes = processes - 1\n",
    "            exits = exits + 1\n",
    "            if processes > 0:\n",
    "                Y = exponential_service(rate)\n",
    "                exit_time = time + Y\n",
    "                time = exit_time\n",
    "            exit_times.append(time)\n",
    "        elif(min(request_time, exit_time) > closing_time and processes==0):\n",
    "            processing_time = max(time - closing_time, 0)\n",
    "            break\n",
    "    \n",
    "    for req_time in range(len(request_times)):\n",
    "        remaining_time = request_times[req_time]\n",
    "        total_time = total_time + remaining_time\n",
    "        \n",
    "    global gorilla_requests \n",
    "    gorilla_requests = requests\n",
    "    global gorilla_occupied \n",
    "    gorilla_occupied = exit_time\n",
    "    global gorilla_free \n",
    "    gorilla_free = exit_time - request_time\n",
    "    global gorilla_queue \n",
    "    gorilla_queue = total_time/len(request_times)\n",
    "    global gorilla_prom_queue \n",
    "    gorilla_prom_queue = gorilla_queue/requests\n",
    "    global gorilla_prom_queue_req \n",
    "    gorilla_prom_queue_req = requests/gorilla_queue\n",
    "    global gorilla_last_req_call\n",
    "    gorilla_last_req_call = request_times[-1]\n",
    "    global gorilla_last_req_end\n",
    "    gorilla_last_req_end = exit_times[-1]"
   ]
  },
  {
   "cell_type": "code",
   "execution_count": 20,
   "metadata": {},
   "outputs": [],
   "source": [
    "def AntsSmartComputing(servers, args):\n",
    "    rate = 40\n",
    "    time = 0                          \n",
    "    closing_time = 3600                            \n",
    "    request_times = []                              \n",
    "    exit_times = []                              \n",
    "    processing_times = []                              \n",
    "    requests = 0                                                           \n",
    "    request_time = exponential_service(rate)\n",
    "    exit_time = [40] * servers\n",
    "    total_time = 0\n",
    "    sistem_requests = [0] * (1 + servers)\n",
    "    server_processes = [0] * servers\n",
    "    \n",
    "    while time < closing_time or sistem_requests[0] > 0:           \n",
    "        search_min_exit_time = exit_time.index(min(exit_time))            \n",
    "        \n",
    "        if request_time < exit_time[search_min_exit_time] and request_time < closing_time:   \n",
    "            time = request_time                     \n",
    "            requests = requests +  1                \n",
    "            request_time = request_time + exponential_service(rate)\n",
    "            request_times.append(time)                  \n",
    "            \n",
    "            if sistem_requests[0] == 0:              \n",
    "                processing_times.append(time)             \n",
    "                sistem_requests[0] += 1              \n",
    "                sistem_requests[1] = requests              \n",
    "                exit_time[0] = time + exponential_service(rate - 30) \n",
    "                \n",
    "            elif sistem_requests[0] < servers:            \n",
    "                available = sistem_requests.index(0) - 1 \n",
    "                processing_times.append(time)             \n",
    "                sistem_requests[0] += 1              \n",
    "                sistem_requests[available + 1] = requests      \n",
    "                exit_time[available] = time + exponential_service(rate - 30) \n",
    "            \n",
    "            else:                      \n",
    "                sistem_requests[0] += 1               \n",
    "        else:                          \n",
    "            time = exit_time[search_min_exit_time]             \n",
    "            server_processes[search_min_exit_time] += 1            \n",
    "            exit_times.append(time)                 \n",
    "            \n",
    "            if sistem_requests[0] <= servers:            \n",
    "                sistem_requests[0] -= 1              \n",
    "                exit_time[search_min_exit_time] = 1000000    \n",
    "                sistem_requests[search_min_exit_time + 1] = 0      \n",
    "            \n",
    "            else:                       \n",
    "                sistem_requests[0] *= -1\n",
    "                next_process = max(sistem_requests) + 1  \n",
    "                sistem_requests[0] *= -1\n",
    "                processing_times.append(time)            \n",
    "                sistem_requests[0] -= 1              \n",
    "                exit_time[search_min_exit_time] = time + exponential_service(rate - 30) \n",
    "                sistem_requests[search_min_exit_time + 1] = next_process \n",
    "                \n",
    "    if args == 'requests_detailed':\n",
    "        print (\"Solicitudes atendididas por cada servidor:\")\n",
    "        print (\"-----------------------------------------\")\n",
    "        for process in range (len(server_processes)):\n",
    "            print (\"\\t\" + \"Servidor \" + str(process + 1) + \":\", server_processes[process], \"solicitudes.\")\n",
    "        print (\"-----------------------------------------\")\n",
    "        return requests\n",
    "    \n",
    "    for req_time in range(len(request_times)):\n",
    "        remaining_time = processing_times[req_time] - request_times[req_time]\n",
    "        total_time = total_time + remaining_time\n",
    "    \n",
    "    global ants_requests \n",
    "    ants_requests = requests\n",
    "    global ants_occupied \n",
    "    ants_occupied = exit_time\n",
    "    global ants_free \n",
    "    ants_free = exit_time[0] - (exit_time[0] - request_time)\n",
    "    global ants_queue \n",
    "    ants_queue = total_time\n",
    "    global ants_prom_queue \n",
    "    ants_prom_queue = ants_queue/requests\n",
    "    global ants_prom_queue_req \n",
    "    ants_prom_queue_req = requests/ants_queue\n",
    "    global ants_last_req_call\n",
    "    ants_last_req_call = request_times[-1]\n",
    "    global ants_last_req_end\n",
    "    ants_last_req_end = exit_times[-1]"
   ]
  },
  {
   "cell_type": "markdown",
   "metadata": {},
   "source": [
    "## Ejercicio\túnico – Servidores:"
   ]
  },
  {
   "cell_type": "markdown",
   "metadata": {},
   "source": [
    "Es\tusted\tel/la\tencargad@\tde\tdefinir\tla\tarquitectura\ta\tusar\ten\tel\tlanzamiento\tde\tsu\tpróxima\taplicación\tWeb:\tC3 (Sistema\tde\tContabilidad\tdel\tConde\tContador). La\tjunta\tdirectiva\tle\tha\tsolicitado\tque\tencuentre\tel\tmejor\tservicio\tde\thosting\tpara\tel\tproyecto.\tDespués\tde\tuna\tinvestigación\tgigante,\tusted\tconcluye\tque\tlas\tmejores\topciones\tse\treducen\ta\tlas\tsiguientes\tdos:"
   ]
  },
  {
   "cell_type": "markdown",
   "metadata": {},
   "source": [
    "### Proveedor\t1\t– Gorilla\tMegacomputing:\n",
    "    Tienen una infraestructura de servidor único, con mucha potencia de procesamiento. Ellos se enorgullecen al indicar que su servidor Enterprise puede atender hasta 100 solicitudes por segundo.\n",
    "\n",
    "### Proveedor\t2\t– Ants\tsmart\tcomputing:\n",
    "    Tienen una infraestructura de múltiples servidores (en nube). Cada servidor es medianamente potente, y en su promoción indican que uno paga únicamente la cantidad de servidores que su aplicación requiera. Luego de su análisis de esta oferta, usted infiere que cada servidor tiene a lo sumo una décima parte de la potencia del servidor promocionado por Gorilla Megacomputing."
   ]
  },
  {
   "cell_type": "markdown",
   "metadata": {},
   "source": [
    "Las\tpruebas\tde\testrés\tiniciales,\ty\tlas\tproyecciones\tcalculadas\tpara\tlos\tprimeros\t2\taños\tluego\tdel\tlanzamiento,\tindican\tque\tsu\taplicación\tjamás\texcederá\tlos\t2400\tsolicitudes\tpor\tminuto.\tUna\tauditoría\ty\tanálisis\tde\tbenchmark a\tsistemas\tsimilares\tal\tsuyo,\tindican\tque\tlas\tsolicitudes\tdeberían\tllegar como\tun\tproceso\tde\tPoisson,\ty\tque\tel\ttiempo\tde\tservicio\tde\tcada\tsolicitud\t(sin\timportar\tla\tarquitectura\tde\tservidor\tusada)\tes\tmodelado\tadecuadamente\tpor\tuna\tvariable\taleatoria\texponencial.\n",
    "\n",
    "Mañana\ttiene\tque\tpresentar\tsu\tdecisión\tfinal\ta\tla\tjunta\tdirectiva\tdel\tproyecto.\t\tComo\tno\ttiene\ttiempo\tpara\thacer una\tinvestigación\ta\tdetalle\tcon\tlos\tclientes\tde\tcada\tproveedor,\tdecide\tcreer\ten\tsu\tpromoción\ty\thacer\tuna\tsimulación\tpara\tconcluir\tcuál\tserá\tla\tmejor\topción."
   ]
  },
  {
   "cell_type": "markdown",
   "metadata": {},
   "source": [
    "### Task 1: \n",
    "\n",
    "Modele,\tsimule\ty\tanalice el\tcomportamiento\tde\tambos\tsistemas\tdurante\tuna\thora\tde\tejecución\tde\tC3,\ty\tpara\tcada\tsistema\tresponda:"
   ]
  },
  {
   "cell_type": "code",
   "execution_count": 21,
   "metadata": {},
   "outputs": [],
   "source": [
    "GorillaMegaComputing()\n",
    "AntsSmartComputing(10, '')"
   ]
  },
  {
   "cell_type": "markdown",
   "metadata": {},
   "source": [
    "- ¿Cuántas\tsolicitudes atendió\tcada\tservidor?"
   ]
  },
  {
   "cell_type": "code",
   "execution_count": 22,
   "metadata": {
    "scrolled": false
   },
   "outputs": [
    {
     "name": "stdout",
     "output_type": "stream",
     "text": [
      "> Gorilla MegaComputing atendio 143980 solicitudes.\n",
      "> Ants SmartComputing atendio 143622 solicitudes.\n"
     ]
    }
   ],
   "source": [
    "print (\"> Gorilla MegaComputing atendio\", gorilla_requests, \"solicitudes.\")\n",
    "print (\"> Ants SmartComputing atendio\", ants_requests, \"solicitudes.\")"
   ]
  },
  {
   "cell_type": "markdown",
   "metadata": {},
   "source": [
    "- ¿Cuánto\ttiempo\testuvo\tcada\tservidor\tocupado?"
   ]
  },
  {
   "cell_type": "code",
   "execution_count": 23,
   "metadata": {},
   "outputs": [
    {
     "name": "stdout",
     "output_type": "stream",
     "text": [
      "> Gorilla MegaComputing se mantuvo ocupado por 3613.0628332836645 segundos.\n",
      "> Ants SmartComputing se mantuvo ocupado por: \n",
      "  1000000 segundos por servidor. \n",
      "  10000000 segundos totales.\n"
     ]
    }
   ],
   "source": [
    "print (\"> Gorilla MegaComputing se mantuvo ocupado por\", gorilla_occupied, \"segundos.\")\n",
    "print (\"> Ants SmartComputing se mantuvo ocupado por: \\n \", ants_occupied[0], \"segundos por servidor. \\n \", sum(ants_occupied), \"segundos totales.\")"
   ]
  },
  {
   "cell_type": "markdown",
   "metadata": {},
   "source": [
    "- ¿Cuánto\ttiempo\testuvo\tcada\tservidor\tdesocupado\t(idle)?"
   ]
  },
  {
   "cell_type": "code",
   "execution_count": 24,
   "metadata": {},
   "outputs": [
    {
     "name": "stdout",
     "output_type": "stream",
     "text": [
      "> Gorilla MegaComputing se mantuvo desocupado por 13.060310888039112 segundos.\n",
      "> Ants SmartComputing se mantuvo desocupado por: \n",
      "  360.0032817451167 segundos por servidor aproximadamente. \n",
      "  3600.032817451167 segundos totales\n"
     ]
    }
   ],
   "source": [
    "print (\"> Gorilla MegaComputing se mantuvo desocupado por\", gorilla_free, \"segundos.\")\n",
    "print (\"> Ants SmartComputing se mantuvo desocupado por: \\n \", ants_free/10, \"segundos por servidor aproximadamente. \\n \", ants_free, \"segundos totales\")"
   ]
  },
  {
   "cell_type": "markdown",
   "metadata": {},
   "source": [
    "- ¿Cuánto\ttiempo\ten\ttotal\testuvieron\tlas\tsolicitudes en\tcola?"
   ]
  },
  {
   "cell_type": "code",
   "execution_count": 25,
   "metadata": {},
   "outputs": [
    {
     "name": "stdout",
     "output_type": "stream",
     "text": [
      "> Se mantuvieron en cola las solicitudes de Gorilla MegaComputing por 1797.394329797824 segundos.\n",
      "> Se mantuvieron en cola las solicitudes de Ants SmartComputing por: \n",
      "  19.97040593613402 segundos por servidor aproximadamente. \n",
      "  199.70405936134023 segundos totales.\n"
     ]
    }
   ],
   "source": [
    "print (\"> Se mantuvieron en cola las solicitudes de Gorilla MegaComputing por\", gorilla_queue, \"segundos.\")\n",
    "print (\"> Se mantuvieron en cola las solicitudes de Ants SmartComputing por: \\n \", ants_queue, \"segundos por servidor aproximadamente. \\n \", ants_queue*10, \"segundos totales.\")"
   ]
  },
  {
   "cell_type": "markdown",
   "metadata": {},
   "source": [
    "- En\tpromedio\t¿cuánto\ttiempo\testuvo\tcada\tsolicitud en\tcola?"
   ]
  },
  {
   "cell_type": "code",
   "execution_count": 26,
   "metadata": {},
   "outputs": [
    {
     "name": "stdout",
     "output_type": "stream",
     "text": [
      "> En promedio, estuvo cada solicitud en cola en Gorilla MegaComputing 0.012483638906777497 segundos aproximadamente.\n",
      "> En promedio, estuvo cada solicitud en cola en Ants SmartComputing 0.00013904837654491665 segundos por servidor aproximadamente.\n"
     ]
    }
   ],
   "source": [
    "print (\"> En promedio, estuvo cada solicitud en cola en Gorilla MegaComputing\", gorilla_prom_queue, \"segundos aproximadamente.\")\n",
    "print (\"> En promedio, estuvo cada solicitud en cola en Ants SmartComputing\", ants_prom_queue, \"segundos por servidor aproximadamente.\")"
   ]
  },
  {
   "cell_type": "markdown",
   "metadata": {},
   "source": [
    "- En\tpromedio,\t¿cuántas\tsolicitudes estuvieron\ten\tcola cada\tsegundo?"
   ]
  },
  {
   "cell_type": "code",
   "execution_count": 27,
   "metadata": {},
   "outputs": [
    {
     "name": "stdout",
     "output_type": "stream",
     "text": [
      "> En promedio, estuvieron 80.10484823115875 solicitudes por segundo en cola en Gorilla MegaComputing aproximadamente.\n",
      "> En promedio, estuvieron 7191.741643074639 solicitudes por segundo en cola en Ants SmartComputing aproximadamente.\n"
     ]
    }
   ],
   "source": [
    "print (\"> En promedio, estuvieron\", gorilla_prom_queue_req, \"solicitudes por segundo en cola en Gorilla MegaComputing aproximadamente.\")\n",
    "print (\"> En promedio, estuvieron\", ants_prom_queue_req, \"solicitudes por segundo en cola en Ants SmartComputing aproximadamente.\")"
   ]
  },
  {
   "cell_type": "markdown",
   "metadata": {},
   "source": [
    "- ¿Cuál\tes\tel\tmomento\tde\tla\tsalida\tde la última solicitud?"
   ]
  },
  {
   "cell_type": "code",
   "execution_count": 30,
   "metadata": {},
   "outputs": [
    {
     "name": "stdout",
     "output_type": "stream",
     "text": [
      "> En Gorilla MegaComputing la ultima solicitud entro a los 3599.9792723616793 segundos y salio a los 3613.0628332836645 segundos.\n",
      "> En Ants SmartComputing la ultima solicitud entro a los 3599.977738503847 segundos y salio a los 3600.0798122013484 segundos.\n"
     ]
    }
   ],
   "source": [
    "print (\"> En Gorilla MegaComputing la ultima solicitud entro a los\", gorilla_last_req_call, \"segundos y salio a los\", gorilla_last_req_end, \"segundos.\")\n",
    "print (\"> En Ants SmartComputing la ultima solicitud entro a los\", ants_last_req_call, \"segundos y salio a los\", ants_last_req_end, \"segundos.\")"
   ]
  },
  {
   "cell_type": "markdown",
   "metadata": {},
   "source": [
    "### Task 2: \n",
    "\n",
    "Determine\tempíricamente\tcuántos\tservidores\tse\tnecesitaría\t“alquilar”\ten\tAnts\tsmart\tcomputing\tpara\tasegurar\tque\tsiempre\thabrá al\tmenos\tun\tservidor\tdisponible\tpara\tatender\tuna\tsolicitud\tdada (en\totras\tpalabras,\tuna\tsolicitud\tnunca\ttiene\tque\tesperar\ten\tcola)."
   ]
  },
  {
   "cell_type": "code",
   "execution_count": null,
   "metadata": {},
   "outputs": [],
   "source": []
  }
 ],
 "metadata": {
  "kernelspec": {
   "display_name": "Python 3",
   "language": "python",
   "name": "python3"
  },
  "language_info": {
   "codemirror_mode": {
    "name": "ipython",
    "version": 3
   },
   "file_extension": ".py",
   "mimetype": "text/x-python",
   "name": "python",
   "nbconvert_exporter": "python",
   "pygments_lexer": "ipython3",
   "version": "3.8.6"
  }
 },
 "nbformat": 4,
 "nbformat_minor": 4
}
